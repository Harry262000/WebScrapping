{
 "cells": [
  {
   "cell_type": "code",
   "execution_count": 9,
   "id": "21121d56-f52b-44df-a572-4296641a0223",
   "metadata": {},
   "outputs": [],
   "source": [
    "import requests\n",
    "import pandas as pd\n",
    "from bs4 import BeautifulSoup\n",
    "import scrapy\n",
    "from urllib.request import urlopen\n",
    "from urllib.error import HTTPError\n",
    "from urllib.error import URLError"
   ]
  },
  {
   "cell_type": "code",
   "execution_count": 13,
   "id": "96efe000-0acb-4e1b-b1ed-23ff3a226587",
   "metadata": {},
   "outputs": [
    {
     "name": "stdout",
     "output_type": "stream",
     "text": [
      "Access to the resource is forbidden (HTTP Error 403).\n"
     ]
    }
   ],
   "source": [
    "try:\n",
    "    html = urlopen('https://wellfound.com/role/l/data-scientist/bangalore-urban')\n",
    "except HTTPError as e:\n",
    "    if e.code == 403:\n",
    "        print(\"Access to the resource is forbidden (HTTP Error 403).\")\n",
    "    else:\n",
    "        print(\"HTTP Error:\", e.code)\n",
    "except URLError as e:\n",
    "    print('The server could not be found:', e.reason)\n",
    "else:\n",
    "    print('It worked!')"
   ]
  },
  {
   "cell_type": "code",
   "execution_count": null,
   "id": "459eddaf-1ea2-4955-b217-5feb4a2ae8b4",
   "metadata": {},
   "outputs": [],
   "source": []
  }
 ],
 "metadata": {
  "kernelspec": {
   "display_name": "Python 3 (ipykernel)",
   "language": "python",
   "name": "python3"
  },
  "language_info": {
   "codemirror_mode": {
    "name": "ipython",
    "version": 3
   },
   "file_extension": ".py",
   "mimetype": "text/x-python",
   "name": "python",
   "nbconvert_exporter": "python",
   "pygments_lexer": "ipython3",
   "version": "3.11.7"
  }
 },
 "nbformat": 4,
 "nbformat_minor": 5
}
