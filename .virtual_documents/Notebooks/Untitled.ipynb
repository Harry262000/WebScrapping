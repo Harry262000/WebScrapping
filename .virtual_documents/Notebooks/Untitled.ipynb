import requests
import pandas as pd
from bs4 import BeautifulSoup
import scrapy
from urllib.request import urlopen
from urllib.error import HTTPError
from urllib.error import URLError


try:
    html = urlopen('https://wellfound.com/role/l/data-scientist/bangalore-urban')
except HTTPError as e:
    if e.code == 403:
        print("Access to the resource is forbidden (HTTP Error 403).")
    else:
        print("HTTP Error:", e.code)
except URLError as e:
    print('The server could not be found:', e.reason)
else:
    print('It worked!')



